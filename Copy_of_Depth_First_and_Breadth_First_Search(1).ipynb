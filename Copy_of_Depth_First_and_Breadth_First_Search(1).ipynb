{
  "nbformat": 4,
  "nbformat_minor": 0,
  "metadata": {
    "colab": {
      "name": "Copy of Depth_First_and_Breadth_First_Search",
      "provenance": [],
      "collapsed_sections": []
    },
    "kernelspec": {
      "name": "python3",
      "display_name": "Python 3"
    }
  },
  "cells": [
    {
      "cell_type": "code",
      "metadata": {
        "id": "2bg2N7QAlIAD",
        "colab": {
          "base_uri": "https://localhost:8080/"
        },
        "outputId": "d109bc7c-a2e8-486c-97e4-6c2aa90153c5"
      },
      "source": [
        "# Prac 1: Read the file, store the data in either adjacency matrix or adjacency list and display the data\n",
        "from google.colab import drive\n",
        "drive.mount('/content/drive')\n",
        "sample_text = open(\"/content/drive/My Drive/Tugas Semester 3/Sistem Cerdas/sample.txt\")\n",
        "txt = sample_text.readlines()\n",
        "print(txt)"
      ],
      "execution_count": null,
      "outputs": [
        {
          "output_type": "stream",
          "name": "stdout",
          "text": [
            "Mounted at /content/drive\n",
            "['8 13\\n', 'S G\\n', 'S A 6\\n', 'S B 2\\n', 'S C 1\\n', 'A D 3\\n', 'A G 20\\n', 'B D 2\\n', 'B E 6\\n', 'C B 3\\n', 'C E 6\\n', 'C F 4\\n', 'D F 5\\n', 'E G 2\\n', 'F G 1']\n"
          ]
        }
      ]
    },
    {
      "cell_type": "code",
      "metadata": {
        "id": "Yn5nYbrAPK0H",
        "colab": {
          "base_uri": "https://localhost:8080/"
        },
        "outputId": "dc8f89f3-c003-42f1-eacb-4c7a7940b53b"
      },
      "source": [
        "total_nodes, total_edges = txt[0].split()\n",
        "start, goal = txt[1].split()\n",
        "start_node=[]\n",
        "end_node=[]\n",
        "cost = []\n",
        "for i in range(2,len(txt)):\n",
        "  a, b, c = txt[i].split()\n",
        "  start_node.append(a)\n",
        "  end_node.append(b)\n",
        "  cost.append(c)\n",
        "print(\"Start node:\",start,\"\\nEnd node: \", goal,\"\\nTotal nodes=\",total_nodes,\"\\nTotal edges= \",total_edges)\n",
        "for i,j,k in zip(start_node, end_node, cost):\n",
        "  print(i,\"->\",j,\"=\",k)"
      ],
      "execution_count": null,
      "outputs": [
        {
          "output_type": "stream",
          "name": "stdout",
          "text": [
            "Start node: S \n",
            "End node:  G \n",
            "Total nodes= 8 \n",
            "Total edges=  13\n",
            "S -> A = 6\n",
            "S -> B = 2\n",
            "S -> C = 1\n",
            "A -> D = 3\n",
            "A -> G = 20\n",
            "B -> D = 2\n",
            "B -> E = 6\n",
            "C -> B = 3\n",
            "C -> E = 6\n",
            "C -> F = 4\n",
            "D -> F = 5\n",
            "E -> G = 2\n",
            "F -> G = 1\n"
          ]
        }
      ]
    },
    {
      "cell_type": "code",
      "metadata": {
        "id": "V1RsgKdMQlx6",
        "colab": {
          "base_uri": "https://localhost:8080/"
        },
        "outputId": "b96c1415-29fc-4103-bf47-8d7270daad2d"
      },
      "source": [
        "temp1 = set(start_node)\n",
        "temp2 = set(end_node)\n",
        "total_states = temp1.union(temp2)\n",
        "print(\"Total states= \",total_states)\n",
        "total_states = list(total_states)"
      ],
      "execution_count": null,
      "outputs": [
        {
          "output_type": "stream",
          "name": "stdout",
          "text": [
            "Total states=  {'D', 'E', 'A', 'S', 'B', 'C', 'G', 'F'}\n"
          ]
        }
      ]
    },
    {
      "cell_type": "code",
      "metadata": {
        "id": "yI2TmO2wRdsB",
        "colab": {
          "base_uri": "https://localhost:8080/"
        },
        "outputId": "bb6023ba-7932-4ac9-d7f1-40cb62cf9162"
      },
      "source": [
        "values = dict()\n",
        "j = 0\n",
        "for i in total_states:\n",
        "  values[i] = j\n",
        "  j = j + 1\n",
        "print(values)"
      ],
      "execution_count": null,
      "outputs": [
        {
          "output_type": "stream",
          "name": "stdout",
          "text": [
            "{'D': 0, 'E': 1, 'A': 2, 'S': 3, 'B': 4, 'C': 5, 'G': 6, 'F': 7}\n"
          ]
        }
      ]
    },
    {
      "cell_type": "code",
      "metadata": {
        "id": "W3Zg6ZZY2O1H",
        "colab": {
          "base_uri": "https://localhost:8080/"
        },
        "outputId": "f58e45be-6d84-403b-83ab-8b4133ec267c"
      },
      "source": [
        "matrix = []\n",
        "for i in total_states:\n",
        "  x = []\n",
        "  for j in total_states:\n",
        "    flag = 0\n",
        "    for k in range(0, len(start_node)):\n",
        "        if(i == start_node[k] and j == end_node[k]):\n",
        "          x.append(int(cost[k]))\n",
        "          flag = 1\n",
        "          break\n",
        "    if(flag == 0):\n",
        "      x.append(0)\n",
        "  print('\\n')\n",
        "  matrix.append(x)\n",
        "  print(matrix)"
      ],
      "execution_count": null,
      "outputs": [
        {
          "output_type": "stream",
          "name": "stdout",
          "text": [
            "\n",
            "\n",
            "[[0, 0, 0, 0, 0, 0, 0, 5]]\n",
            "\n",
            "\n",
            "[[0, 0, 0, 0, 0, 0, 0, 5], [0, 0, 0, 0, 0, 0, 2, 0]]\n",
            "\n",
            "\n",
            "[[0, 0, 0, 0, 0, 0, 0, 5], [0, 0, 0, 0, 0, 0, 2, 0], [3, 0, 0, 0, 0, 0, 20, 0]]\n",
            "\n",
            "\n",
            "[[0, 0, 0, 0, 0, 0, 0, 5], [0, 0, 0, 0, 0, 0, 2, 0], [3, 0, 0, 0, 0, 0, 20, 0], [0, 0, 6, 0, 2, 1, 0, 0]]\n",
            "\n",
            "\n",
            "[[0, 0, 0, 0, 0, 0, 0, 5], [0, 0, 0, 0, 0, 0, 2, 0], [3, 0, 0, 0, 0, 0, 20, 0], [0, 0, 6, 0, 2, 1, 0, 0], [2, 6, 0, 0, 0, 0, 0, 0]]\n",
            "\n",
            "\n",
            "[[0, 0, 0, 0, 0, 0, 0, 5], [0, 0, 0, 0, 0, 0, 2, 0], [3, 0, 0, 0, 0, 0, 20, 0], [0, 0, 6, 0, 2, 1, 0, 0], [2, 6, 0, 0, 0, 0, 0, 0], [0, 6, 0, 0, 3, 0, 0, 4]]\n",
            "\n",
            "\n",
            "[[0, 0, 0, 0, 0, 0, 0, 5], [0, 0, 0, 0, 0, 0, 2, 0], [3, 0, 0, 0, 0, 0, 20, 0], [0, 0, 6, 0, 2, 1, 0, 0], [2, 6, 0, 0, 0, 0, 0, 0], [0, 6, 0, 0, 3, 0, 0, 4], [0, 0, 0, 0, 0, 0, 0, 0]]\n",
            "\n",
            "\n",
            "[[0, 0, 0, 0, 0, 0, 0, 5], [0, 0, 0, 0, 0, 0, 2, 0], [3, 0, 0, 0, 0, 0, 20, 0], [0, 0, 6, 0, 2, 1, 0, 0], [2, 6, 0, 0, 0, 0, 0, 0], [0, 6, 0, 0, 3, 0, 0, 4], [0, 0, 0, 0, 0, 0, 0, 0], [0, 0, 0, 0, 0, 0, 1, 0]]\n"
          ]
        }
      ]
    },
    {
      "cell_type": "code",
      "metadata": {
        "id": "jmQgOCIRobbt",
        "colab": {
          "base_uri": "https://localhost:8080/"
        },
        "outputId": "12f2d2e2-0636-43dd-dc95-2515d6819c57"
      },
      "source": [
        "print(\"   \",end='')\n",
        "for i in total_states:\n",
        "  print(\" \",i, end='')\n",
        "print(\"\\n\")\n",
        "for i,j in zip(matrix, total_states):\n",
        "  print(j,\" \",i)"
      ],
      "execution_count": null,
      "outputs": [
        {
          "output_type": "stream",
          "name": "stdout",
          "text": [
            "     D  E  A  S  B  C  G  F\n",
            "\n",
            "D   [0, 0, 0, 0, 0, 0, 0, 5]\n",
            "E   [0, 0, 0, 0, 0, 0, 2, 0]\n",
            "A   [3, 0, 0, 0, 0, 0, 20, 0]\n",
            "S   [0, 0, 6, 0, 2, 1, 0, 0]\n",
            "B   [2, 6, 0, 0, 0, 0, 0, 0]\n",
            "C   [0, 6, 0, 0, 3, 0, 0, 4]\n",
            "G   [0, 0, 0, 0, 0, 0, 0, 0]\n",
            "F   [0, 0, 0, 0, 0, 0, 1, 0]\n"
          ]
        }
      ]
    },
    {
      "cell_type": "code",
      "metadata": {
        "id": "HVSwCYR839ao",
        "colab": {
          "base_uri": "https://localhost:8080/"
        },
        "outputId": "29bea59e-b1e0-4983-d836-2f0b8654ee89"
      },
      "source": [
        "#search algorithms DFS\n",
        "graph = dict()\n",
        "for i in total_states:\n",
        "  b = []\n",
        "  for k in total_states:\n",
        "    if (matrix[values[i]][values[k]] != 0):\n",
        "      b.append(total_states[values[k]])\n",
        "  graph[i] = b\n",
        "visited = set() \n",
        "print(\"The visited nodes are: \",end='')\n",
        "def dfs(visited, graph, node):\n",
        "    if node not in visited:\n",
        "        print (node,end = \" \")\n",
        "        visited.add(node)\n",
        "        for neighbour in graph[node]:\n",
        "            dfs(visited, graph, neighbour)\n",
        "\n",
        "dfs(visited, graph, start)"
      ],
      "execution_count": null,
      "outputs": [
        {
          "output_type": "stream",
          "name": "stdout",
          "text": [
            "The visited nodes are: S A D F G B E C "
          ]
        }
      ]
    },
    {
      "cell_type": "code",
      "metadata": {
        "id": "H9ExPzEv2rCD",
        "colab": {
          "base_uri": "https://localhost:8080/"
        },
        "outputId": "c411c54c-9882-49f6-ee92-9e2036eeba4c"
      },
      "source": [
        "#search algorithms BFS\n",
        "visited = [] \n",
        "queue = []     \n",
        "def bfs(visited, graph, node):\n",
        "  visited.append(node)\n",
        "  queue.append(node)\n",
        "  print(\"The visited nodes are: \",end='')\n",
        "  while queue:\n",
        "    s = queue.pop(0) \n",
        "    print (s,end=\" \") \n",
        "    for neighbour in graph[s]:\n",
        "      if neighbour not in visited:\n",
        "        visited.append(neighbour)\n",
        "        queue.append(neighbour)\n",
        "\n",
        "bfs(visited, graph, start)"
      ],
      "execution_count": null,
      "outputs": [
        {
          "output_type": "stream",
          "name": "stdout",
          "text": [
            "The visited nodes are: S A B C D G E F "
          ]
        }
      ]
    }
  ]
}